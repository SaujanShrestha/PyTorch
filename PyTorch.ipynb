{
  "nbformat": 4,
  "nbformat_minor": 0,
  "metadata": {
    "colab": {
      "provenance": [],
      "gpuType": "T4",
      "authorship_tag": "ABX9TyPgZbXrbjDi8axKLG/lZp92",
      "include_colab_link": true
    },
    "kernelspec": {
      "name": "python3",
      "display_name": "Python 3"
    },
    "language_info": {
      "name": "python"
    },
    "accelerator": "GPU"
  },
  "cells": [
    {
      "cell_type": "markdown",
      "metadata": {
        "id": "view-in-github",
        "colab_type": "text"
      },
      "source": [
        "<a href=\"https://colab.research.google.com/github/SaujanShrestha/PyTorch/blob/main/PyTorch.ipynb\" target=\"_parent\"><img src=\"https://colab.research.google.com/assets/colab-badge.svg\" alt=\"Open In Colab\"/></a>"
      ]
    },
    {
      "cell_type": "code",
      "execution_count": 1,
      "metadata": {
        "colab": {
          "base_uri": "https://localhost:8080/"
        },
        "id": "NuYLpNb1Yb-h",
        "outputId": "53f05672-e5ee-409e-8b40-5a87bc55ad6c"
      },
      "outputs": [
        {
          "output_type": "stream",
          "name": "stdout",
          "text": [
            "tensor([[0.7435, 0.3255, 0.1845],\n",
            "        [0.9734, 0.2053, 0.1375],\n",
            "        [0.9378, 0.2561, 0.9686]])\n"
          ]
        }
      ],
      "source": [
        "import torch\n",
        "x = torch.rand(3,3)\n",
        "print(x)"
      ]
    },
    {
      "cell_type": "code",
      "source": [
        "torch.cuda.is_available()"
      ],
      "metadata": {
        "colab": {
          "base_uri": "https://localhost:8080/"
        },
        "id": "HTtfoR1yZgTs",
        "outputId": "4d1e28a0-36f1-45a6-eb64-b155040a3793"
      },
      "execution_count": 2,
      "outputs": [
        {
          "output_type": "execute_result",
          "data": {
            "text/plain": [
              "True"
            ]
          },
          "metadata": {},
          "execution_count": 2
        }
      ]
    },
    {
      "cell_type": "code",
      "source": [
        "import torch\n",
        "x = torch.rand(3,3)\n",
        "print(x)"
      ],
      "metadata": {
        "colab": {
          "base_uri": "https://localhost:8080/"
        },
        "id": "lIiWyvAmaBg9",
        "outputId": "a10f3a31-8aa4-4c59-c814-07c2fb0c1cd2"
      },
      "execution_count": 1,
      "outputs": [
        {
          "output_type": "stream",
          "name": "stdout",
          "text": [
            "tensor([[0.5294, 0.9889, 0.3959],\n",
            "        [0.9518, 0.1119, 0.0659],\n",
            "        [0.2190, 0.3269, 0.0941]])\n"
          ]
        }
      ]
    },
    {
      "cell_type": "code",
      "source": [
        "torch.cuda.is_available()"
      ],
      "metadata": {
        "colab": {
          "base_uri": "https://localhost:8080/"
        },
        "id": "WyIXyaFBaLzp",
        "outputId": "50c80612-52f4-4d64-b8b9-a14d482b8a53"
      },
      "execution_count": 2,
      "outputs": [
        {
          "output_type": "execute_result",
          "data": {
            "text/plain": [
              "False"
            ]
          },
          "metadata": {},
          "execution_count": 2
        }
      ]
    },
    {
      "cell_type": "code",
      "source": [
        "import torch\n",
        "x = torch.rand(3,3)\n",
        "print(x)"
      ],
      "metadata": {
        "colab": {
          "base_uri": "https://localhost:8080/"
        },
        "id": "jHdzV78waR81",
        "outputId": "99a04576-93c5-441a-b2bd-6b24f7207ebd"
      },
      "execution_count": 1,
      "outputs": [
        {
          "output_type": "stream",
          "name": "stdout",
          "text": [
            "tensor([[0.2780, 0.8269, 0.7072],\n",
            "        [0.5454, 0.5187, 0.3449],\n",
            "        [0.5889, 0.9630, 0.8871]])\n"
          ]
        }
      ]
    },
    {
      "cell_type": "code",
      "source": [
        "torch.cuda.is_available()"
      ],
      "metadata": {
        "colab": {
          "base_uri": "https://localhost:8080/"
        },
        "id": "q-E4aIE0ak5R",
        "outputId": "5f4f8324-4072-473c-857f-af0019aa710f"
      },
      "execution_count": 2,
      "outputs": [
        {
          "output_type": "execute_result",
          "data": {
            "text/plain": [
              "True"
            ]
          },
          "metadata": {},
          "execution_count": 2
        }
      ]
    },
    {
      "cell_type": "code",
      "source": [
        "x = torch.empty(2,3)\n",
        "print(x)"
      ],
      "metadata": {
        "colab": {
          "base_uri": "https://localhost:8080/"
        },
        "id": "yuebLE9iaqBl",
        "outputId": "0a09119c-8e8c-4b72-f3e6-cb767416143b"
      },
      "execution_count": 3,
      "outputs": [
        {
          "output_type": "stream",
          "name": "stdout",
          "text": [
            "tensor([[2.6998e-40, 0.0000e+00, 5.0447e-44],\n",
            "        [0.0000e+00, 0.0000e+00, 0.0000e+00]])\n"
          ]
        }
      ]
    },
    {
      "cell_type": "code",
      "source": [
        "y = torch.rand(2,3)\n",
        "y"
      ],
      "metadata": {
        "colab": {
          "base_uri": "https://localhost:8080/"
        },
        "id": "65_Tb27Jb1bm",
        "outputId": "e49460f0-ef5c-45a4-a48d-0af08855a2ad"
      },
      "execution_count": 4,
      "outputs": [
        {
          "output_type": "execute_result",
          "data": {
            "text/plain": [
              "tensor([[0.1707, 0.9030, 0.8273],\n",
              "        [0.3849, 0.3533, 0.9068]])"
            ]
          },
          "metadata": {},
          "execution_count": 4
        }
      ]
    },
    {
      "cell_type": "code",
      "source": [
        "z = torch.zeros(1,3)\n",
        "z"
      ],
      "metadata": {
        "colab": {
          "base_uri": "https://localhost:8080/"
        },
        "id": "vokVs58Rb_Qr",
        "outputId": "ee05e73b-5426-45dd-c49c-835a1e9e77cd"
      },
      "execution_count": 5,
      "outputs": [
        {
          "output_type": "execute_result",
          "data": {
            "text/plain": [
              "tensor([[0., 0., 0.]])"
            ]
          },
          "metadata": {},
          "execution_count": 5
        }
      ]
    },
    {
      "cell_type": "code",
      "source": [
        "a = torch.ones(2,3)\n",
        "a"
      ],
      "metadata": {
        "colab": {
          "base_uri": "https://localhost:8080/"
        },
        "id": "M_4P4BQ5cGLl",
        "outputId": "0951cd43-4efc-4336-f066-5907996a126c"
      },
      "execution_count": 6,
      "outputs": [
        {
          "output_type": "execute_result",
          "data": {
            "text/plain": [
              "tensor([[1., 1., 1.],\n",
              "        [1., 1., 1.]])"
            ]
          },
          "metadata": {},
          "execution_count": 6
        }
      ]
    },
    {
      "cell_type": "code",
      "source": [
        "import numpy as np\n",
        "a = np.array([[1, 1, 2, 2],\n",
        "                [3, 3, 4, 4]])\n",
        "a.dtype"
      ],
      "metadata": {
        "colab": {
          "base_uri": "https://localhost:8080/"
        },
        "id": "VpEOmdA-cMYm",
        "outputId": "9b8537c9-016d-4ff6-8296-b6092274b8b0"
      },
      "execution_count": 9,
      "outputs": [
        {
          "output_type": "execute_result",
          "data": {
            "text/plain": [
              "dtype('int64')"
            ]
          },
          "metadata": {},
          "execution_count": 9
        }
      ]
    },
    {
      "cell_type": "code",
      "source": [
        "b = torch.tensor([[1,2],[3,4]])\n",
        "#properties of tensor.\n",
        "print(b.size())   #shape\n",
        "print(b.dtype)    #data type\n",
        "print(b.device)   #cpu or gpu"
      ],
      "metadata": {
        "colab": {
          "base_uri": "https://localhost:8080/"
        },
        "id": "3NKx3Ux1dFrL",
        "outputId": "55972cf3-4196-4033-ddc5-92f39306ec40"
      },
      "execution_count": 8,
      "outputs": [
        {
          "output_type": "stream",
          "name": "stdout",
          "text": [
            "torch.Size([2, 2])\n",
            "torch.int64\n",
            "cpu\n"
          ]
        }
      ]
    },
    {
      "cell_type": "code",
      "source": [
        "b2 = torch.tensor([[1,2],[3,4]],dtype=torch.float32)\n",
        "print(b2)\n",
        "print(b2.size())\n",
        "print(b2.dtype)\n",
        "print(b2.device)"
      ],
      "metadata": {
        "colab": {
          "base_uri": "https://localhost:8080/"
        },
        "id": "Y4fGFzIkdpy5",
        "outputId": "801f5189-57d1-4299-f9b7-242f5da3a09f"
      },
      "execution_count": 11,
      "outputs": [
        {
          "output_type": "stream",
          "name": "stdout",
          "text": [
            "tensor([[1., 2.],\n",
            "        [3., 4.]])\n",
            "torch.Size([2, 2])\n",
            "torch.float32\n",
            "cpu\n"
          ]
        }
      ]
    },
    {
      "cell_type": "code",
      "source": [
        "print(x[:,1])"
      ],
      "metadata": {
        "colab": {
          "base_uri": "https://localhost:8080/"
        },
        "id": "Se5Lcfyoe3f9",
        "outputId": "e7b56cf7-519b-4f91-bd80-2bff97945e15"
      },
      "execution_count": 12,
      "outputs": [
        {
          "output_type": "stream",
          "name": "stdout",
          "text": [
            "tensor([0., 0.])\n"
          ]
        }
      ]
    },
    {
      "cell_type": "code",
      "source": [
        "z = torch.arange(1,10)\n",
        "z = z.view(3,3)\n",
        "print(z)"
      ],
      "metadata": {
        "colab": {
          "base_uri": "https://localhost:8080/"
        },
        "id": "YJmZ-IBKgHwD",
        "outputId": "23f83a3d-8b51-40ca-f4a6-40764fe2e182"
      },
      "execution_count": 14,
      "outputs": [
        {
          "output_type": "stream",
          "name": "stdout",
          "text": [
            "tensor([[1, 2, 3],\n",
            "        [4, 5, 6],\n",
            "        [7, 8, 9]])\n"
          ]
        }
      ]
    },
    {
      "cell_type": "code",
      "source": [
        "if torch.cuda.is_available():\n",
        "  tensor_gpu = b.to('cuda')\n",
        "  print(tensor_gpu)"
      ],
      "metadata": {
        "colab": {
          "base_uri": "https://localhost:8080/"
        },
        "id": "VoJUo263hyTJ",
        "outputId": "bf9ea857-a4c4-4266-b270-214e3867f378"
      },
      "execution_count": 15,
      "outputs": [
        {
          "output_type": "stream",
          "name": "stdout",
          "text": [
            "tensor([[1, 2],\n",
            "        [3, 4]], device='cuda:0')\n"
          ]
        }
      ]
    },
    {
      "cell_type": "code",
      "source": [
        "print(tensor_gpu.device)"
      ],
      "metadata": {
        "colab": {
          "base_uri": "https://localhost:8080/"
        },
        "id": "-LwtVVcYiqgx",
        "outputId": "757c1c01-c7f2-48d3-9465-ae6061709606"
      },
      "execution_count": 16,
      "outputs": [
        {
          "output_type": "stream",
          "name": "stdout",
          "text": [
            "cuda:0\n"
          ]
        }
      ]
    },
    {
      "cell_type": "code",
      "source": [
        "b = torch.tensor([[1,2],[3,4]], device='cuda')\n",
        "b.device"
      ],
      "metadata": {
        "colab": {
          "base_uri": "https://localhost:8080/"
        },
        "id": "n8O9RuRbixFb",
        "outputId": "6ae9df0e-4772-473c-f802-5c5b4c0e56e9"
      },
      "execution_count": 17,
      "outputs": [
        {
          "output_type": "execute_result",
          "data": {
            "text/plain": [
              "device(type='cuda', index=0)"
            ]
          },
          "metadata": {},
          "execution_count": 17
        }
      ]
    },
    {
      "cell_type": "code",
      "source": [
        "x = torch.tensor([[10,20,30],\n",
        "                  [40,50,60],\n",
        "                  [70,80,90]])\n",
        "print(x[0])\n",
        "print(x[1,2])\n",
        "print(x[-1])"
      ],
      "metadata": {
        "colab": {
          "base_uri": "https://localhost:8080/"
        },
        "id": "aZc1Q5DYjNIb",
        "outputId": "8e9240b6-1b7d-4807-9ca3-8887a06fc66b"
      },
      "execution_count": 19,
      "outputs": [
        {
          "output_type": "stream",
          "name": "stdout",
          "text": [
            "tensor([10, 20, 30])\n",
            "tensor(60)\n",
            "tensor([70, 80, 90])\n"
          ]
        }
      ]
    },
    {
      "cell_type": "code",
      "source": [
        "print(x[:,0])\n",
        "print(x[0:2, :])\n",
        "print(x[:, 1:])\n",
        "print(x[::2,::2])"
      ],
      "metadata": {
        "colab": {
          "base_uri": "https://localhost:8080/"
        },
        "id": "eCVrVc2xlNgM",
        "outputId": "bef91857-ca2e-4ccd-a47a-d36e9da1a977"
      },
      "execution_count": 20,
      "outputs": [
        {
          "output_type": "stream",
          "name": "stdout",
          "text": [
            "tensor([10, 40, 70])\n",
            "tensor([[10, 20, 30],\n",
            "        [40, 50, 60]])\n",
            "tensor([[20, 30],\n",
            "        [50, 60],\n",
            "        [80, 90]])\n",
            "tensor([[10, 30],\n",
            "        [70, 90]])\n"
          ]
        }
      ]
    },
    {
      "cell_type": "code",
      "source": [
        "#Fancy Indexing\n",
        "rows = torch.tensor([0,2])\n",
        "cols = torch.tensor([1,2])\n",
        "print(x[rows,cols])"
      ],
      "metadata": {
        "colab": {
          "base_uri": "https://localhost:8080/"
        },
        "id": "03oNaKDXlz09",
        "outputId": "1c44d919-e087-4136-90dd-909459179950"
      },
      "execution_count": 22,
      "outputs": [
        {
          "output_type": "stream",
          "name": "stdout",
          "text": [
            "tensor([20, 90])\n"
          ]
        }
      ]
    },
    {
      "cell_type": "code",
      "source": [
        "#Boolean Mask\n",
        "mask = x > 50\n",
        "print(mask)\n",
        "print(x[mask])"
      ],
      "metadata": {
        "colab": {
          "base_uri": "https://localhost:8080/"
        },
        "id": "P6VWJCUsnNBG",
        "outputId": "bb7e180e-f93b-45f1-9202-54a99a5c62a7"
      },
      "execution_count": 23,
      "outputs": [
        {
          "output_type": "stream",
          "name": "stdout",
          "text": [
            "tensor([[False, False, False],\n",
            "        [False, False,  True],\n",
            "        [ True,  True,  True]])\n",
            "tensor([60, 70, 80, 90])\n"
          ]
        }
      ]
    },
    {
      "cell_type": "code",
      "source": [
        "x[0:0] = 100\n",
        "x"
      ],
      "metadata": {
        "colab": {
          "base_uri": "https://localhost:8080/"
        },
        "id": "2F7pMPWZoKJ7",
        "outputId": "0801d845-26a5-4f03-8eae-980652c461a6"
      },
      "execution_count": 31,
      "outputs": [
        {
          "output_type": "execute_result",
          "data": {
            "text/plain": [
              "tensor([[100,  20,  30],\n",
              "        [ 40,  50,  60],\n",
              "        [ 70,  80,  90]])"
            ]
          },
          "metadata": {},
          "execution_count": 31
        }
      ]
    },
    {
      "cell_type": "code",
      "source": [
        "#Assigning values via indexing\n",
        "x[0,0] = 999\n",
        "print(x)\n",
        "\n",
        "x[:,1] = torch.tensor([111,222,333])\n",
        "print(x)"
      ],
      "metadata": {
        "colab": {
          "base_uri": "https://localhost:8080/"
        },
        "id": "cpQJgHKio5Ty",
        "outputId": "5ac63523-6ca6-4fa5-9f2f-07f0edc7f209"
      },
      "execution_count": 32,
      "outputs": [
        {
          "output_type": "stream",
          "name": "stdout",
          "text": [
            "tensor([[999,  20,  30],\n",
            "        [ 40,  50,  60],\n",
            "        [ 70,  80,  90]])\n",
            "tensor([[999, 111,  30],\n",
            "        [ 40, 222,  60],\n",
            "        [ 70, 333,  90]])\n"
          ]
        }
      ]
    },
    {
      "cell_type": "code",
      "source": [
        "import torch, time\n",
        "import numpy as np\n",
        "\n",
        "a = np.random.rand(5000,5000)\n",
        "start = time.time()\n",
        "np.dot(a, a)\n",
        "print(\"Numpy Time:\", time.time() - start)\n",
        "\n",
        "a_t = torch.rand(5000,5000, device=\"cuda\")\n",
        "torch.cuda.synchronize()\n",
        "start = time.time()\n",
        "torch.matmul(a_t, a_t)\n",
        "torch.cuda.synchronize()\n",
        "print(\"PyTorch GPU Time\",time.time() - start)"
      ],
      "metadata": {
        "colab": {
          "base_uri": "https://localhost:8080/"
        },
        "id": "6uLe-0G-qaiE",
        "outputId": "d53fc9b3-67b3-4d23-84b2-640d72a7cc9c"
      },
      "execution_count": 36,
      "outputs": [
        {
          "output_type": "stream",
          "name": "stdout",
          "text": [
            "Numpy Time: 4.215060472488403\n",
            "PyTorch GPU Time 0.30068492889404297\n"
          ]
        }
      ]
    }
  ]
}